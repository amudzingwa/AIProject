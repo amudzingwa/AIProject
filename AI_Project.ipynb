{
  "nbformat": 4,
  "nbformat_minor": 0,
  "metadata": {
    "colab": {
      "provenance": [],
      "gpuType": "T4",
      "authorship_tag": "ABX9TyMViiH/xV6aQNLRFTyQke07",
      "include_colab_link": true
    },
    "kernelspec": {
      "name": "python3",
      "display_name": "Python 3"
    },
    "language_info": {
      "name": "python"
    },
    "accelerator": "GPU"
  },
  "cells": [
    {
      "cell_type": "markdown",
      "metadata": {
        "id": "view-in-github",
        "colab_type": "text"
      },
      "source": [
        "<a href=\"https://colab.research.google.com/github/evanreppeto/AIProject/blob/main/AI_Project.ipynb\" target=\"_parent\"><img src=\"https://colab.research.google.com/assets/colab-badge.svg\" alt=\"Open In Colab\"/></a>"
      ]
    },
    {
      "cell_type": "code",
      "execution_count": null,
      "metadata": {
        "id": "Gbp0blxChAK-"
      },
      "outputs": [],
      "source": [
        "import tensorflow as tf\n",
        "import os\n",
        "import cv2\n",
        "import numpy as np\n",
        "import matplotlib.pyplot as plt\n",
        "import imghdr\n",
        "import cv2\n",
        "from tensorflow. keras.layers import Dense, Flatten, Activation, Conv2D, MaxPooling2D, Dropout, BatchNormalization\n",
        "from tensorflow. keras.models import Sequential\n",
        "from tensorflow. keras.models import load_model\n",
        "from tensorflow. keras.optimizers import Adam, SGD"
      ]
    },
    {
      "cell_type": "code",
      "source": [
        "gpus = tf.config.experimental.list_physical_devices('GPU')\n",
        "for gpu in gpus:\n",
        "    tf.config.experimental.set_memory_growth(gpu, True)"
      ],
      "metadata": {
        "id": "KHp-qBekhwf4"
      },
      "execution_count": null,
      "outputs": []
    },
    {
      "cell_type": "code",
      "source": [
        "from google.colab import drive\n",
        "drive.mount('/content/drive')"
      ],
      "metadata": {
        "id": "mJoLeeu1jJ_k"
      },
      "execution_count": null,
      "outputs": []
    },
    {
      "cell_type": "code",
      "source": [
        "Data = tf.keras.utils.image_dataset_from_directory('/content/drive/MyDrive/AI_Project_Data')\n",
        "data_iterator = Data.as_numpy_iterator()\n",
        "batch = data_iterator.next()"
      ],
      "metadata": {
        "id": "pEs67gM0l8W1"
      },
      "execution_count": null,
      "outputs": []
    },
    {
      "cell_type": "code",
      "source": [
        "#normalizing orparation\n",
        "Data = Data.map(lambda x,y: (x/255, y))\n",
        "\n",
        "#split the data set(75:15:10)\n",
        "train_size = int(len(Data)*.75)\n",
        "val_size = int(len(Data)*.15)\n",
        "test_size = int(len(Data)*.1)\n",
        "\n",
        "train = Data.take(train_size)\n",
        "val = Data.skip(train_size).take(val_size)\n",
        "test = Data.skip(train_size+val_size).take(test_size)"
      ],
      "metadata": {
        "id": "1s388cfBnMrd"
      },
      "execution_count": null,
      "outputs": []
    },
    {
      "cell_type": "code",
      "source": [],
      "metadata": {
        "id": "e2dgi9h9oGMZ"
      },
      "execution_count": null,
      "outputs": []
    }
  ]
}